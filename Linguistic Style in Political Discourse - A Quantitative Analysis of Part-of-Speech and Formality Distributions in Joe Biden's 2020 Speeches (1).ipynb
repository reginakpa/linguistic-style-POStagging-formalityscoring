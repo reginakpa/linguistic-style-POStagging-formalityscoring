{
 "cells": [
  {
   "cell_type": "markdown",
   "id": "160db40e",
   "metadata": {},
   "source": [
    "# Linguistic Style in Political Discourse: A Quantitative Analysis of Part-of-Speech and Formality Distributions in Joe Biden's 2020 Speeches"
   ]
  },
  {
   "cell_type": "markdown",
   "id": "014d6d08",
   "metadata": {},
   "source": [
    "This study explores the interplay between part-of-speech (POS) tags and formality scores in differentiating Joe Biden's formal and informal speeches. The analysis focuses on Heylighen and Dewaele's (1999) F-score to examine Biden's 2020 Democratic Convention Speech (formal) and Thanksgiving Day Speech (informal). The formality is measured by analyzing word type frequencies from different genres, aligning with the expectation that \"the more formal the language excerpt, the higher the value of F\" (Heylighen & Dewaele, 1999, p. 13). The analysis aims to contribute to understanding the role of language in shaping formality and how language is used in different contexts. The analysis reveals that Biden's Democratic Convention speech exhibited a higher F-score than his Thanksgiving speech. The difference suggests that Biden adapts his language style to suit each occasion's context or formality."
   ]
  },
  {
   "cell_type": "markdown",
   "id": "a56da174",
   "metadata": {},
   "source": [
    "### Joe Biden's Formal Speech - Democratic Convention Speech"
   ]
  },
  {
   "cell_type": "markdown",
   "id": "ed822bba",
   "metadata": {},
   "source": [
    "The dataset's source: https://www.kaggle.com/datasets/christianlillelund/2020-democratic-convention-speeches"
   ]
  },
  {
   "cell_type": "code",
   "execution_count": 1,
   "id": "903702ba",
   "metadata": {},
   "outputs": [],
   "source": [
    "import spacy\n",
    "nlp = spacy.load('en_core_web_sm')"
   ]
  },
  {
   "cell_type": "code",
   "execution_count": 2,
   "id": "99dd1d7b",
   "metadata": {},
   "outputs": [],
   "source": [
    "# Read the data\n",
    "\n",
    "dataIn = open('Joe_Biden.txt', 'r', encoding='utf-8')\n",
    "Joe_Biden_Speech = dataIn.read()\n",
    "dataIn.close()"
   ]
  },
  {
   "cell_type": "code",
   "execution_count": 3,
   "id": "288cf5b4",
   "metadata": {},
   "outputs": [],
   "source": [
    "# Process our string\n",
    "doc = nlp(Joe_Biden_Speech)"
   ]
  },
  {
   "cell_type": "code",
   "execution_count": 4,
   "id": "2621e564",
   "metadata": {},
   "outputs": [],
   "source": [
    "# Let's tokenize the formal speech\n",
    "Joe_Biden_Speech_TextTokens = [token.text for token in doc]"
   ]
  },
  {
   "cell_type": "code",
   "execution_count": 5,
   "id": "67b72f1b",
   "metadata": {},
   "outputs": [],
   "source": [
    "# Here we have a list of tokens that are alphabetic\n",
    "Joe_Biden_Speech_TextTokensAlpha = [token.text for token in doc if token.text.isalpha()]\n",
    "\n",
    "# Here we have a list of PoSes of the tokens that are alphabetic \n",
    "# We use token.text.isalpha(), NOT token.pos_.isalpha() to filter\n",
    "Joe_Biden_Speech_TextPoSesAlpha_Tags = [token.pos_ for token in doc if token.text.isalpha()]"
   ]
  },
  {
   "cell_type": "code",
   "execution_count": 6,
   "id": "29252b36",
   "metadata": {},
   "outputs": [
    {
     "name": "stdout",
     "output_type": "stream",
     "text": [
      "Counter({'NOUN': 615, 'PRON': 465, 'VERB': 402, 'ADP': 348, 'DET': 290, 'ADJ': 238, 'AUX': 181, 'ADV': 170, 'CCONJ': 143, 'PROPN': 111, 'PART': 83, 'SCONJ': 52, 'NUM': 29, 'INTJ': 4})\n"
     ]
    }
   ],
   "source": [
    "# Let's get the list of all the Part of Speeches and the frequencies\n",
    "# Note that FreqDict = Frequency of Dictionary\n",
    "# Note that PoS = Part of Speech\n",
    "\n",
    "from collections import Counter\n",
    "\n",
    "Joe_Biden_Speech_FreqDictPoSAlpha = Counter(Joe_Biden_Speech_TextPoSesAlpha_Tags)\n",
    "print(Joe_Biden_Speech_FreqDictPoSAlpha)"
   ]
  },
  {
   "cell_type": "code",
   "execution_count": 7,
   "id": "ee61e49d",
   "metadata": {},
   "outputs": [
    {
     "name": "stdout",
     "output_type": "stream",
     "text": [
      "Counter({'NOUN': 615,\n",
      "         'PRON': 465,\n",
      "         'VERB': 402,\n",
      "         'ADP': 348,\n",
      "         'DET': 290,\n",
      "         'ADJ': 238,\n",
      "         'AUX': 181,\n",
      "         'ADV': 170,\n",
      "         'CCONJ': 143,\n",
      "         'PROPN': 111,\n",
      "         'PART': 83,\n",
      "         'SCONJ': 52,\n",
      "         'NUM': 29,\n",
      "         'INTJ': 4})\n"
     ]
    }
   ],
   "source": [
    "# Let's use pprint to format the output nicely\n",
    "\n",
    "import pprint\n",
    "\n",
    "Joe_Biden_Speech_FreqDictPoSAlpha = Counter(Joe_Biden_Speech_TextPoSesAlpha_Tags)\n",
    "pprint.pprint(Joe_Biden_Speech_FreqDictPoSAlpha)"
   ]
  },
  {
   "cell_type": "markdown",
   "id": "f5b0e944",
   "metadata": {},
   "source": [
    "From the above analysis, we found the frequencies of different type of words are as follows:  \n",
    "\n",
    "NOUN: 615,  \n",
    "PRON: 465,  \n",
    "VERB: 402,  \n",
    "ADP: 348,  \n",
    "DET: 290,  \n",
    "ADJ: 238,  \n",
    "AUX: 181,  \n",
    "ADV: 170,  \n",
    "CCONJ: 143,  \n",
    "PROPN: 111,  \n",
    "PART: 83,  \n",
    "SCONJ: 52,  \n",
    "NUM: 29,  \n",
    "INTJ: 4"
   ]
  },
  {
   "cell_type": "markdown",
   "id": "10515e72",
   "metadata": {},
   "source": [
    "The PoS set is a carse-grained part-of-speech set from the [Universal POS tag set](https://universaldependencies.org/u/pos/).\n",
    "\n",
    "    ADJ: adjective\n",
    "    ADP: adposition\n",
    "    ADV: adverb\n",
    "    AUX: auxiliary\n",
    "    CCONJ: coordinating conjunction\n",
    "    DET: determiner\n",
    "    INTJ: interjection\n",
    "    NOUN: noun\n",
    "    NUM: numeral\n",
    "    PART: particle\n",
    "    PRON: pronoun\n",
    "    PROPN: proper noun\n",
    "    PUNCT: punctuation\n",
    "    SCONJ: subordinating conjunction\n",
    "    SYM: symbol\n",
    "    VERB: verb\n",
    "    X: other\n",
    "\n"
   ]
  },
  {
   "cell_type": "code",
   "execution_count": 8,
   "id": "999e8fd3",
   "metadata": {},
   "outputs": [
    {
     "name": "stdout",
     "output_type": "stream",
     "text": [
      "3131\n"
     ]
    }
   ],
   "source": [
    "Joe_Biden_Speech_totalPoSCount = sum(Joe_Biden_Speech_FreqDictPoSAlpha.values())\n",
    "print(Joe_Biden_Speech_totalPoSCount)"
   ]
  },
  {
   "cell_type": "markdown",
   "id": "30d31e7b",
   "metadata": {},
   "source": [
    "Heylighen and Dewaele (1999, p.13) states:  \n",
    "\"In conclusion, the formal, non-deictic category of words, whose frequency is expected to increase with the formality of a text, includes the nouns, adjectives, prepositions and articles. The deictic category, whose frequency is expected to decrease with increasing formality of speech-styles, consists of the pronouns, verbs, adverbs, and interjections. The remaining category of conjunctions has no a priori correlation with formality. If we add up the frequencies of the formal categories, subtract the frequencies of the deictic categories and normalize to 100, we get a measure which will always increase with an increase of formality. This leads us to the following simple\n",
    "formula:  \n",
    "\n",
    "F = (noun frequency + adjective freq. + preposition freq. + article freq. – pronoun freq.\n",
    "– verb freq. – adverb freq. – interjection freq. + 100)/2  \n",
    "\n",
    "The frequencies are here expressed as percentages of the number of words belonging to a particular category with respect to the total number of words in the excerpt. F will then vary between 0 and 100% (but obviously never reach these limits). The more formal the language excerpt, the higher the value of F is expected to be.\""
   ]
  },
  {
   "cell_type": "code",
   "execution_count": 9,
   "id": "9c3bec7c",
   "metadata": {},
   "outputs": [
    {
     "name": "stdout",
     "output_type": "stream",
     "text": [
      "Noun:  19.642286809326094\n",
      "Adjective:  7.601405301820504\n",
      "Preposition:  11.114659853082081\n",
      "Article:  9.26221654423507\n",
      "Pronoun:  14.85148514851485\n",
      "Verb:  12.83934845097413\n",
      "Adverb:  5.429575215586075\n",
      "Interjection:  0.12775471095496646\n"
     ]
    }
   ],
   "source": [
    "# To measure the formality score, let's get the relative frequency of each of these 8 Part of Speeches\n",
    "\n",
    "# noun: NOUN\n",
    "RelFreqNounPerc = Joe_Biden_Speech_FreqDictPoSAlpha['NOUN']/Joe_Biden_Speech_totalPoSCount*100\n",
    "print('Noun: ', RelFreqNounPerc)\n",
    "\n",
    "# adjective: ADJ\n",
    "RelFreqAdjPerc = Joe_Biden_Speech_FreqDictPoSAlpha['ADJ']/Joe_Biden_Speech_totalPoSCount*100\n",
    "print('Adjective: ',RelFreqAdjPerc)\n",
    "\n",
    "# preposition: ADP\n",
    "RelFreqAdpPerc = Joe_Biden_Speech_FreqDictPoSAlpha['ADP']/Joe_Biden_Speech_totalPoSCount*100\n",
    "print('Preposition: ',RelFreqAdpPerc)\n",
    "\n",
    "# article: DET  \n",
    "RelFreqDetPerc = Joe_Biden_Speech_FreqDictPoSAlpha['DET']/Joe_Biden_Speech_totalPoSCount*100\n",
    "print('Article: ',RelFreqDetPerc)\n",
    "\n",
    "# pronoun: PRON\n",
    "RelFreqPronPerc = Joe_Biden_Speech_FreqDictPoSAlpha['PRON']/Joe_Biden_Speech_totalPoSCount*100\n",
    "print('Pronoun: ', RelFreqPronPerc)\n",
    "\n",
    "# verb: VERB\n",
    "RelFreqVerbPerc = Joe_Biden_Speech_FreqDictPoSAlpha['VERB']/Joe_Biden_Speech_totalPoSCount*100\n",
    "print('Verb: ',RelFreqVerbPerc)\n",
    "\n",
    "# adverb: ADV\n",
    "RelFreqAdvPerc = Joe_Biden_Speech_FreqDictPoSAlpha['ADV']/Joe_Biden_Speech_totalPoSCount*100\n",
    "print('Adverb: ',RelFreqAdvPerc)\n",
    "\n",
    "# interjection: INTJ\n",
    "RelFreqIntjPerc = Joe_Biden_Speech_FreqDictPoSAlpha['INTJ']/Joe_Biden_Speech_totalPoSCount*100\n",
    "print('Interjection: ',RelFreqIntjPerc)"
   ]
  },
  {
   "cell_type": "code",
   "execution_count": 10,
   "id": "535d8f24",
   "metadata": {},
   "outputs": [
    {
     "name": "stdout",
     "output_type": "stream",
     "text": [
      "57.18620249121686\n"
     ]
    }
   ],
   "source": [
    "# F = (noun frequency + adjective freq. + preposition freq. + article freq. – pronoun freq. – verb freq. – adverb freq. – interjection freq. + 100)/2 \n",
    "FormalityScore_DemocraticSpeech = (RelFreqNounPerc + RelFreqAdjPerc + RelFreqAdpPerc + RelFreqDetPerc - RelFreqPronPerc - RelFreqVerbPerc - RelFreqAdvPerc - RelFreqIntjPerc + 100)/2\n",
    "\n",
    "print(FormalityScore_DemocraticSpeech)"
   ]
  },
  {
   "cell_type": "markdown",
   "id": "b7cdb171",
   "metadata": {},
   "source": [
    "### Joe Biden's Informal Speech - Thanksgiving Speech"
   ]
  },
  {
   "cell_type": "markdown",
   "id": "3cfbb20c",
   "metadata": {},
   "source": [
    "The dataset's source: https://www.kaggle.com/datasets/vyombhatia/joe-bidens-speeches-of-this-week"
   ]
  },
  {
   "cell_type": "code",
   "execution_count": 11,
   "id": "eda1dbf0",
   "metadata": {},
   "outputs": [],
   "source": [
    "# Read the data\n",
    "\n",
    "dataIn = open('Joe_Biden_Thanksgiving2020.txt', 'r', encoding='utf-8')\n",
    "Joe_Biden_Thanksgiving_Speech = dataIn.read()\n",
    "dataIn.close()"
   ]
  },
  {
   "cell_type": "code",
   "execution_count": 12,
   "id": "bfc1b46e",
   "metadata": {},
   "outputs": [],
   "source": [
    "# Process our string\n",
    "document = nlp(Joe_Biden_Thanksgiving_Speech)"
   ]
  },
  {
   "cell_type": "code",
   "execution_count": 13,
   "id": "6aab660c",
   "metadata": {},
   "outputs": [],
   "source": [
    "# Let's tokenize the informal speech.\n",
    "Joe_Biden_Thanksgiving_Speech_TextTokens = [token.text for token in document]"
   ]
  },
  {
   "cell_type": "code",
   "execution_count": 14,
   "id": "f93fb7ef",
   "metadata": {},
   "outputs": [],
   "source": [
    "# Here we have a list of tokens that are alphabetic\n",
    "Joe_Biden_Thanksgiving_Speech_TextTokensAlpha = [token.text for token in document if token.text.isalpha()]\n",
    "\n",
    "# Here we have a list of PoSes of the tokens that are alphabetic \n",
    "# We use token.text.isalpha(), NOT token.pos_.isalpha() to filter\n",
    "Joe_Biden_Thanksgiving_Speech_TextPoSesAlpha_Tags = [token.pos_ for token in document if token.text.isalpha()]"
   ]
  },
  {
   "cell_type": "code",
   "execution_count": 15,
   "id": "9955607a",
   "metadata": {},
   "outputs": [
    {
     "name": "stdout",
     "output_type": "stream",
     "text": [
      "Counter({'NOUN': 410, 'VERB': 322, 'PRON': 318, 'ADP': 227, 'DET': 209, 'ADJ': 149, 'ADV': 132, 'AUX': 120, 'PROPN': 112, 'CCONJ': 89, 'PART': 83, 'SCONJ': 38, 'NUM': 15, 'INTJ': 2})\n"
     ]
    }
   ],
   "source": [
    "# Let's get the list of all the Part of Speeches and the frequencies\n",
    "# Note that FreqDict = Frequency of Dictionary\n",
    "# Note that PoS = Part of Speech\n",
    "\n",
    "from collections import Counter\n",
    "\n",
    "Joe_Biden_Thanksgiving_Speech_FreqDictPoSAlpha = Counter(Joe_Biden_Thanksgiving_Speech_TextPoSesAlpha_Tags)\n",
    "print(Joe_Biden_Thanksgiving_Speech_FreqDictPoSAlpha)"
   ]
  },
  {
   "cell_type": "code",
   "execution_count": 16,
   "id": "5144471b",
   "metadata": {},
   "outputs": [
    {
     "name": "stdout",
     "output_type": "stream",
     "text": [
      "Counter({'NOUN': 410,\n",
      "         'VERB': 322,\n",
      "         'PRON': 318,\n",
      "         'ADP': 227,\n",
      "         'DET': 209,\n",
      "         'ADJ': 149,\n",
      "         'ADV': 132,\n",
      "         'AUX': 120,\n",
      "         'PROPN': 112,\n",
      "         'CCONJ': 89,\n",
      "         'PART': 83,\n",
      "         'SCONJ': 38,\n",
      "         'NUM': 15,\n",
      "         'INTJ': 2})\n"
     ]
    }
   ],
   "source": [
    "# Let's use pprint to format the output nicely\n",
    "\n",
    "import pprint\n",
    "\n",
    "Joe_Biden_Thanksgiving_Speech_FreqDictPoSAlpha = Counter(Joe_Biden_Thanksgiving_Speech_TextPoSesAlpha_Tags)\n",
    "pprint.pprint(Joe_Biden_Thanksgiving_Speech_FreqDictPoSAlpha)"
   ]
  },
  {
   "cell_type": "markdown",
   "id": "2e52a3fe",
   "metadata": {},
   "source": [
    "From the above analysis, we found the frequencies of different type of words are as follows:  \n",
    "\n",
    "NOUN: 410,  \n",
    "VERB: 322,  \n",
    "PRON: 318,  \n",
    "ADP: 227,  \n",
    "DET: 209,  \n",
    "ADJ: 149,  \n",
    "ADV: 132,  \n",
    "AUX: 120,  \n",
    "PROPN: 112,  \n",
    "CCONJ: 89,  \n",
    "PART: 83,  \n",
    "SCONJ: 38,  \n",
    "NUM: 15,  \n",
    "INTJ: 2"
   ]
  },
  {
   "cell_type": "code",
   "execution_count": 17,
   "id": "db5ee75d",
   "metadata": {},
   "outputs": [
    {
     "name": "stdout",
     "output_type": "stream",
     "text": [
      "2226\n"
     ]
    }
   ],
   "source": [
    "Joe_Biden_Thanksgiving_Speech_totalPoSCount = sum(Joe_Biden_Thanksgiving_Speech_FreqDictPoSAlpha.values())\n",
    "print(Joe_Biden_Thanksgiving_Speech_totalPoSCount)"
   ]
  },
  {
   "cell_type": "code",
   "execution_count": 18,
   "id": "9ee54909",
   "metadata": {},
   "outputs": [
    {
     "name": "stdout",
     "output_type": "stream",
     "text": [
      "Noun:  18.418688230008982\n",
      "Adjective:  6.693620844564241\n",
      "Preposition:  10.197663971248877\n",
      "Article:  9.389038634321652\n",
      "Pronoun:  14.285714285714285\n",
      "Verb:  14.465408805031446\n",
      "Adverb:  5.929919137466308\n",
      "Interjection:  0.08984725965858043\n"
     ]
    }
   ],
   "source": [
    "# To measure the formality score, let's get the relative frequency of each of these 8 Part of Speeches\n",
    "\n",
    "# noun: NOUN\n",
    "RelFreqNounPerc_Thanksgiving = Joe_Biden_Thanksgiving_Speech_FreqDictPoSAlpha['NOUN']/Joe_Biden_Thanksgiving_Speech_totalPoSCount*100\n",
    "print('Noun: ', RelFreqNounPerc_Thanksgiving)\n",
    "\n",
    "# adjective: ADJ\n",
    "RelFreqAdjPerc_Thanksgiving = Joe_Biden_Thanksgiving_Speech_FreqDictPoSAlpha['ADJ']/Joe_Biden_Thanksgiving_Speech_totalPoSCount*100\n",
    "print('Adjective: ',RelFreqAdjPerc_Thanksgiving)\n",
    "\n",
    "# preposition: ADP \n",
    "RelFreqAdpPerc_Thanksgiving = Joe_Biden_Thanksgiving_Speech_FreqDictPoSAlpha['ADP']/Joe_Biden_Thanksgiving_Speech_totalPoSCount*100\n",
    "print('Preposition: ',RelFreqAdpPerc_Thanksgiving)\n",
    "\n",
    "# article: DET  \n",
    "RelFreqDetPerc_Thanksgiving = Joe_Biden_Thanksgiving_Speech_FreqDictPoSAlpha['DET']/Joe_Biden_Thanksgiving_Speech_totalPoSCount*100\n",
    "print('Article: ',RelFreqDetPerc_Thanksgiving)\n",
    "\n",
    "# pronoun: PRON\n",
    "RelFreqPronPerc_Thanksgiving = Joe_Biden_Thanksgiving_Speech_FreqDictPoSAlpha['PRON']/Joe_Biden_Thanksgiving_Speech_totalPoSCount*100\n",
    "print('Pronoun: ', RelFreqPronPerc_Thanksgiving)\n",
    "\n",
    "# verb: VERB\n",
    "RelFreqVerbPerc_Thanksgiving = Joe_Biden_Thanksgiving_Speech_FreqDictPoSAlpha['VERB']/Joe_Biden_Thanksgiving_Speech_totalPoSCount*100\n",
    "print('Verb: ',RelFreqVerbPerc_Thanksgiving)\n",
    "\n",
    "# adverb: ADV\n",
    "RelFreqAdvPerc_Thanksgiving = Joe_Biden_Thanksgiving_Speech_FreqDictPoSAlpha['ADV']/Joe_Biden_Thanksgiving_Speech_totalPoSCount*100\n",
    "print('Adverb: ',RelFreqAdvPerc_Thanksgiving)\n",
    "\n",
    "# interjection: INTJ\n",
    "RelFreqIntjPerc_Thanksgiving = Joe_Biden_Thanksgiving_Speech_FreqDictPoSAlpha['INTJ']/Joe_Biden_Thanksgiving_Speech_totalPoSCount*100\n",
    "print('Interjection: ',RelFreqIntjPerc_Thanksgiving)"
   ]
  },
  {
   "cell_type": "code",
   "execution_count": 19,
   "id": "36402f25",
   "metadata": {},
   "outputs": [
    {
     "name": "stdout",
     "output_type": "stream",
     "text": [
      "54.96406109613656\n"
     ]
    }
   ],
   "source": [
    "# F = (noun frequency + adjective freq. + preposition freq. + article freq. – pronoun freq. – verb freq. – adverb freq. – interjection freq. + 100)/2 \n",
    "FormalityScore_ThanksgivingSpeech = (RelFreqNounPerc_Thanksgiving + RelFreqAdjPerc_Thanksgiving + RelFreqAdpPerc_Thanksgiving + RelFreqDetPerc_Thanksgiving - RelFreqPronPerc_Thanksgiving - RelFreqVerbPerc_Thanksgiving - RelFreqAdvPerc_Thanksgiving - RelFreqIntjPerc_Thanksgiving + 100)/2\n",
    "\n",
    "print(FormalityScore_ThanksgivingSpeech)"
   ]
  },
  {
   "cell_type": "markdown",
   "id": "bb7d3f56",
   "metadata": {},
   "source": [
    "### Conclusion"
   ]
  },
  {
   "cell_type": "code",
   "execution_count": 20,
   "id": "602c7132",
   "metadata": {},
   "outputs": [
    {
     "name": "stdout",
     "output_type": "stream",
     "text": [
      "Democratic Convention Speech F-Score: 57.18620249121686\n",
      "Thanksgiving Speech F-Score: 54.96406109613656\n"
     ]
    }
   ],
   "source": [
    "print('Democratic Convention Speech F-Score:', FormalityScore_DemocraticSpeech)\n",
    "print('Thanksgiving Speech F-Score:', FormalityScore_ThanksgivingSpeech)"
   ]
  },
  {
   "cell_type": "code",
   "execution_count": 21,
   "id": "8d490cda",
   "metadata": {},
   "outputs": [
    {
     "name": "stdout",
     "output_type": "stream",
     "text": [
      "Joe Biden's Democratic Convention Speech has a higher Formality Score than his Thanksgiving Speech\n"
     ]
    }
   ],
   "source": [
    "# Let's check which speech has higher Formality Score\n",
    "\n",
    "if FormalityScore_DemocraticSpeech > FormalityScore_ThanksgivingSpeech:\n",
    "    print(\"Joe Biden's Democratic Convention Speech has a higher Formality Score than his Thanksgiving Speech\")\n",
    "elif FormalityScore_ThanksgivingSpeech > FormalityScore_DemocraticSpeech:\n",
    "    print(\"Joe Biden's Thanksgiving Speech has a higher Formality Score than his Democratic Convention Speech\")"
   ]
  },
  {
   "cell_type": "markdown",
   "id": "84af43cf",
   "metadata": {},
   "source": [
    "This study examined the formality of Joe Biden's 2020 speeches using Heylighen and Dewaele's (1999) F-score and genre-specific word frequency analysis. As expected, Joe Biden's formal Democratic Convention speech exhibited a higher formality score than his informal Thanksgiving speech. The result aligns with expectations that Biden adapted his language style to suit the formality of each setting. These findings contribute to our understanding of Joe Biden's communication strategies by highlighting his linguistic choices to adapt his message to different contexts."
   ]
  }
 ],
 "metadata": {
  "kernelspec": {
   "display_name": "Python 3 (ipykernel)",
   "language": "python",
   "name": "python3"
  },
  "language_info": {
   "codemirror_mode": {
    "name": "ipython",
    "version": 3
   },
   "file_extension": ".py",
   "mimetype": "text/x-python",
   "name": "python",
   "nbconvert_exporter": "python",
   "pygments_lexer": "ipython3",
   "version": "3.11.5"
  }
 },
 "nbformat": 4,
 "nbformat_minor": 5
}
